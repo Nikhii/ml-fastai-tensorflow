{
 "cells": [
  {
   "cell_type": "markdown",
   "metadata": {},
   "source": [
    "## Imports"
   ]
  },
  {
   "cell_type": "code",
   "execution_count": 14,
   "metadata": {
    "code_folding": [],
    "collapsed": false
   },
   "outputs": [
    {
     "name": "stdout",
     "output_type": "stream",
     "text": [
      "The autoreload extension is already loaded. To reload it, use:\n",
      "  %reload_ext autoreload\n"
     ]
    }
   ],
   "source": [
    "# adds parent directory to python path so we can access code located there\n",
    "import os, sys\n",
    "nb_dir = os.path.split(os.getcwd())[0]\n",
    "if nb_dir not in sys.path: sys.path.append(nb_dir)\n",
    "    \n",
    "# core imports\n",
    "from ohmeow_ml.keras_tf_util import *\n",
    "\n",
    "# configure matplotlib\n",
    "%matplotlib inline\n",
    "    \n",
    "# configure autoreload to re-load changed modules\n",
    "%load_ext autoreload\n",
    "%autoreload 2"
   ]
  },
  {
   "cell_type": "markdown",
   "metadata": {
    "collapsed": true
   },
   "source": [
    "## Setup"
   ]
  },
  {
   "cell_type": "code",
   "execution_count": 31,
   "metadata": {
    "collapsed": true
   },
   "outputs": [],
   "source": [
    "current_dir = os.getcwd()\n",
    "DATA_HOME_DIR = current_dir + '/data/'\n",
    "DATA_CLASSES = [ dir for dir in os.listdir(DATA_HOME_DIR+'train') ]\n",
    "\n",
    "rebuild_from_data_download = True"
   ]
  },
  {
   "cell_type": "markdown",
   "metadata": {},
   "source": [
    "Lets see how many examples we have for each class in the training dataset and the overall number of images we have in test.\n",
    "\n",
    "** NOTE: ** There is a huge difference between the number of test images (~ 80k) and training images (~ 20k)"
   ]
  },
  {
   "cell_type": "code",
   "execution_count": 32,
   "metadata": {
    "collapsed": false
   },
   "outputs": [
    {
     "name": "stdout",
     "output_type": "stream",
     "text": [
      "# of training images per class:\n",
      "c0 2489\n",
      "c1 2267\n",
      "c2 2317\n",
      "c3 2346\n",
      "c4 2326\n",
      "c5 2312\n",
      "c6 2325\n",
      "c7 2002\n",
      "c8 1911\n",
      "c9 2129\n",
      "\n",
      "# of test images: 79727\n"
     ]
    }
   ],
   "source": [
    "print('# of training images per class:')\n",
    "for c in DATA_CLASSES:\n",
    "    print(c, len(glob(DATA_HOME_DIR+'train/' + c + '/*')))\n",
    "    \n",
    "print('')\n",
    "\n",
    "print('# of test images:',len(glob(DATA_HOME_DIR+'test/*')))"
   ]
  },
  {
   "cell_type": "markdown",
   "metadata": {},
   "source": [
    "## Data Preparation\n",
    "\n",
    "Copy a small amount of our data into a `sample` directory, with the exact same structure as our `train` directory -- this is *always* a good idea in *all* machine learning since we should do all of our initial testing using a dataset small enough that we never have to wait for it."
   ]
  },
  {
   "cell_type": "markdown",
   "metadata": {},
   "source": [
    "### Unzip training and test files"
   ]
  },
  {
   "cell_type": "code",
   "execution_count": 36,
   "metadata": {
    "collapsed": true
   },
   "outputs": [],
   "source": [
    "if (rebuild_from_data_download == True):\n",
    "    # unzip kaggle imgs.zip -> /train and /test\n",
    "    with zipfile.ZipFile(DATA_HOME_DIR + 'imgs.zip', 'r') as zip_ref:\n",
    "        zip_ref.extractall(DATA_HOME_DIR)"
   ]
  },
  {
   "cell_type": "markdown",
   "metadata": {},
   "source": [
    "### Create train, validation, test, and sample directories"
   ]
  },
  {
   "cell_type": "code",
   "execution_count": 37,
   "metadata": {
    "collapsed": true
   },
   "outputs": [],
   "source": [
    "if (rebuild_from_data_download == True):\n",
    "    # create the directory structure required for machine learning with keras\n",
    "    for c in DATA_CLASSES:\n",
    "        make_dir(DATA_HOME_DIR + 'sample/train/' + c)\n",
    "        make_dir(DATA_HOME_DIR + 'sample/valid/' + c)\n",
    "        make_dir(DATA_HOME_DIR + 'valid/' + c)\n",
    "        \n",
    "    make_dir(DATA_HOME_DIR + 'test/unknown')"
   ]
  },
  {
   "cell_type": "markdown",
   "metadata": {},
   "source": [
    "### Move training, validation, and test data into appropriate sub-directories"
   ]
  },
  {
   "cell_type": "code",
   "execution_count": 38,
   "metadata": {
    "collapsed": false
   },
   "outputs": [],
   "source": [
    "if (rebuild_from_data_download == True):\n",
    "    # move VALIDATION datasets\n",
    "    for c in DATA_CLASSES:\n",
    "        # get number of images for class in training set\n",
    "        num_train_files = len(glob(DATA_HOME_DIR+'train/' + c + '/*'))\n",
    "        \n",
    "        # make number of validation examples for each class proportional to # of images in training (30%)\n",
    "        num_validation_files = int(num_train_files * 0.30)\n",
    "        \n",
    "        for file in py_random.sample(os.listdir(DATA_HOME_DIR + 'train/' + c + '/'), num_validation_files):\n",
    "            shutil.move(DATA_HOME_DIR + 'train/' + c + '/' + file, DATA_HOME_DIR + 'valid/' + c)\n",
    "            \n",
    "    # move TEST images into /unknown subdirectory\n",
    "    for file in glob(DATA_HOME_DIR + 'test/*'):\n",
    "        shutil.move(file, DATA_HOME_DIR + 'test/unknown')"
   ]
  },
  {
   "cell_type": "markdown",
   "metadata": {},
   "source": [
    "### Copy a subset of training data into approprite sub-directories under /sample folder"
   ]
  },
  {
   "cell_type": "code",
   "execution_count": 39,
   "metadata": {
    "collapsed": true
   },
   "outputs": [],
   "source": [
    "if (rebuild_from_data_download == True):\n",
    "    # create SAMPLE train and validation datasets\n",
    "    for c in DATA_CLASSES:\n",
    "        for file in py_random.sample(os.listdir(DATA_HOME_DIR + 'train/' + c), 100):\n",
    "            shutil.copy(DATA_HOME_DIR + 'train/' + c + '/' + file, DATA_HOME_DIR + 'sample/train/' + c)\n",
    "            \n",
    "    for c in DATA_CLASSES:\n",
    "        for file in py_random.sample(os.listdir(DATA_HOME_DIR + 'valid/' + c), 30):\n",
    "            shutil.copy(DATA_HOME_DIR + 'valid/' + c + '/' + file, DATA_HOME_DIR + 'sample/valid/' + c)"
   ]
  },
  {
   "cell_type": "code",
   "execution_count": null,
   "metadata": {
    "collapsed": true
   },
   "outputs": [],
   "source": []
  }
 ],
 "metadata": {
  "kernelspec": {
   "display_name": "Python 3",
   "language": "python",
   "name": "python3"
  },
  "language_info": {
   "codemirror_mode": {
    "name": "ipython",
    "version": 3
   },
   "file_extension": ".py",
   "mimetype": "text/x-python",
   "name": "python",
   "nbconvert_exporter": "python",
   "pygments_lexer": "ipython3",
   "version": "3.5.2"
  }
 },
 "nbformat": 4,
 "nbformat_minor": 2
}
