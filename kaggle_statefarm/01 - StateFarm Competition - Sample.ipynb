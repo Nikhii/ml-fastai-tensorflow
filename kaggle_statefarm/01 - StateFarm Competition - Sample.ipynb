{
 "cells": [
  {
   "cell_type": "markdown",
   "metadata": {},
   "source": [
    "## Imports"
   ]
  },
  {
   "cell_type": "code",
   "execution_count": 1,
   "metadata": {},
   "outputs": [
    {
     "name": "stderr",
     "output_type": "stream",
     "text": [
      "Using TensorFlow backend.\n"
     ]
    }
   ],
   "source": [
    "# adds parent directory to python path so we can access code located there\n",
    "import os, sys\n",
    "nb_dir = os.path.split(os.getcwd())[0]\n",
    "if nb_dir not in sys.path: sys.path.append(nb_dir)\n",
    "    \n",
    "# core imports\n",
    "from ohmeow_ml.keras_tf_util import *\n",
    "\n",
    "# configure matplotlib\n",
    "%matplotlib inline\n",
    "    \n",
    "# configure autoreload to re-load changed modules\n",
    "%load_ext autoreload\n",
    "%autoreload 2"
   ]
  },
  {
   "cell_type": "markdown",
   "metadata": {},
   "source": [
    "## Define paths and global variables"
   ]
  },
  {
   "cell_type": "code",
   "execution_count": 2,
   "metadata": {},
   "outputs": [],
   "source": [
    "current_dir = os.getcwd()\n",
    "DATA_HOME_DIR = current_dir + '/data/'\n",
    "DATA_CLASSES = [ dir for dir in os.listdir(DATA_HOME_DIR+'train') ]\n",
    "\n",
    "# path = DATA_HOME_DIR\n",
    "path = DATA_HOME_DIR + 'sample/'\n",
    "\n",
    "train_path = path + 'train/'\n",
    "val_path = path + 'valid/'\n",
    "test_path = path + 'test/'\n",
    "\n",
    "models_path = path + 'models/'                      # save weights here\n",
    "results_path = path + 'results/'                    # save predictions here\n",
    "processed_data_path = path + 'preprocesed_data/'    # save preprocessed data used for training here\n",
    "\n",
    "if not os.path.exists(models_path): os.makedirs(models_path)\n",
    "if not os.path.exists(results_path): os.makedirs(results_path)\n",
    "if not os.path.exists(processed_data_path): os.makedirs(processed_data_path)"
   ]
  },
  {
   "cell_type": "code",
   "execution_count": 3,
   "metadata": {
    "collapsed": true
   },
   "outputs": [],
   "source": [
    "batch_size = 4 #64"
   ]
  },
  {
   "cell_type": "markdown",
   "metadata": {},
   "source": [
    "## Preprocess the data\n",
    "\n",
    "We can save time by pre-processing the images (e.g., converting them to jpegs, resizing to 224x224) and saving them as a numpy array on the file system.  We can do the same for the train, validation, and test image class designations, filenames, and one-hot encoded labels"
   ]
  },
  {
   "cell_type": "code",
   "execution_count": 4,
   "metadata": {},
   "outputs": [
    {
     "name": "stdout",
     "output_type": "stream",
     "text": [
      "Found 1500 images belonging to 10 classes.\n",
      "Found 750 images belonging to 10 classes.\n",
      "Found 500 images belonging to 1 classes.\n"
     ]
    }
   ],
   "source": [
    "# get classes, one-hot encoded labels, and filenames\n",
    "train_classes, train_labels, train_filenames = get_batch_info(train_path)\n",
    "val_classes, val_labels, val_filenames = get_batch_info(val_path)\n",
    "test_filenames = get_batch_info(test_path)[2]"
   ]
  },
  {
   "cell_type": "code",
   "execution_count": 5,
   "metadata": {},
   "outputs": [
    {
     "name": "stdout",
     "output_type": "stream",
     "text": [
      "training data loaded ...\n",
      "validation data loaded ...\n",
      "test data loaded ...\n"
     ]
    }
   ],
   "source": [
    " # get image data\n",
    "if not os.path.exists(processed_data_path+'train_data.bc'):\n",
    "    train_data = get_data(train_path)\n",
    "    save_array(processed_data_path+'train_data.bc', train_data)\n",
    "else:\n",
    "    train_data = load_array(processed_data_path+'train_data.bc')\n",
    "    print('training data loaded ...')\n",
    "\n",
    "if not os.path.exists(processed_data_path+'val_data.bc'):\n",
    "    val_data = get_data(val_path)\n",
    "    save_array(processed_data_path+'val_data.bc', val_data)\n",
    "else:\n",
    "    val_data = load_array(processed_data_path+'val_data.bc')\n",
    "    print('validation data loaded ...')\n",
    "\n",
    "if not os.path.exists(processed_data_path+'test_data.bc'):\n",
    "    test_data = get_data(test_path)\n",
    "    save_array(processed_data_path+'test_data.bc', test_data)\n",
    "else:\n",
    "    test_data = load_array(processed_data_path+'test_data.bc')\n",
    "    print('test data loaded ...')"
   ]
  },
  {
   "cell_type": "markdown",
   "metadata": {},
   "source": [
    "Create training/validation batches and also define \"steps per epoch\" for each ... defines the # of batches per epoch (see `model.fit_generator()`).\n",
    "\n",
    "***ONLY RUN THIS CODE IF YOU NEED TO USE BATCHES INSTEAD OF PERSISTED IMAGE ARRAYS***"
   ]
  },
  {
   "cell_type": "code",
   "execution_count": 6,
   "metadata": {},
   "outputs": [],
   "source": [
    "# OPTION 1: BUILD BATCHES FROM FILE SYSTEM\n",
    "# train_batches = get_batches(train_path, batch_size=batch_size)\n",
    "# val_batches = get_batches(val_path, batch_size=batch_size*2, shuffle=False)\n",
    "\n",
    "# OPTION 2: BUILD BATCHES FROM IMAGE ARRAYS\n",
    "# gen = image.ImageDataGenerator()\n",
    "# train_batches = gen.flow(train_data, train_labels, batch_size=batch_size, shuffle=True)\n",
    "# val_batches = gen.flow(val_data, val_labels, batch_size=batch_size*2, shuffle=False)\n",
    "\n",
    "# DEFINE # OF STEPS TO TAKE IN FITTING BATCHES FOR BOTH TRAINING AND VALIDATION EXAMPLES\n",
    "# epoch_steps = math.ceil(train_batches.n/train_batches.batch_size)\n",
    "# val_steps = math.ceil(val_batches.n/val_batches.batch_size)"
   ]
  },
  {
   "cell_type": "markdown",
   "metadata": {
    "heading_collapsed": true
   },
   "source": [
    "## Basic Models\n",
    "Train a linear classifer and a basic NN with a single hidden layer to provide a baseline and also validate that the size of our sample datasets are usable"
   ]
  },
  {
   "cell_type": "markdown",
   "metadata": {
    "heading_collapsed": true,
    "hidden": true
   },
   "source": [
    "### Option 1: A simple linear classifier."
   ]
  },
  {
   "cell_type": "code",
   "execution_count": 7,
   "metadata": {
    "hidden": true
   },
   "outputs": [],
   "source": [
    "def lm_model():\n",
    "    model = Sequential([\n",
    "        BatchNormalization(axis=1, input_shape=(224,224,3)),\n",
    "        Flatten(),\n",
    "        Dense(10, activation='softmax')\n",
    "    ])\n",
    "    model.compile(optimizer=Adam(), loss='categorical_crossentropy', metrics=['accuracy'])\n",
    "    return model"
   ]
  },
  {
   "cell_type": "code",
   "execution_count": 8,
   "metadata": {
    "collapsed": true,
    "hidden": true
   },
   "outputs": [],
   "source": [
    "lm = lm_model()"
   ]
  },
  {
   "cell_type": "code",
   "execution_count": 9,
   "metadata": {
    "hidden": true
   },
   "outputs": [
    {
     "name": "stdout",
     "output_type": "stream",
     "text": [
      "Train on 1500 samples, validate on 750 samples\n",
      "Epoch 1/3\n",
      "6s - loss: 14.0125 - acc: 0.1087 - val_loss: 14.5580 - val_acc: 0.0920\n",
      "Epoch 2/3\n",
      "3s - loss: 14.0578 - acc: 0.1253 - val_loss: 14.5003 - val_acc: 0.0960\n",
      "Epoch 3/3\n",
      "3s - loss: 13.7063 - acc: 0.1453 - val_loss: 13.7745 - val_acc: 0.1413\n"
     ]
    },
    {
     "data": {
      "text/plain": [
       "<keras.callbacks.History at 0x7ff88c77cb70>"
      ]
     },
     "execution_count": 9,
     "metadata": {},
     "output_type": "execute_result"
    }
   ],
   "source": [
    "# IF USING BATCHES ...\n",
    "# lm.fit_generator(train_batches, steps_per_epoch=epoch_steps, epochs=2, \n",
    "#                  validation_data=val_batches, validation_steps=val_steps, verbose=2)\n",
    "\n",
    "# IF USING IMAGE ARRAYS\n",
    "lm.fit(train_data, train_labels, epochs=3, validation_data=(val_data, val_labels), verbose=2)"
   ]
  },
  {
   "cell_type": "code",
   "execution_count": 11,
   "metadata": {
    "hidden": true
   },
   "outputs": [],
   "source": [
    "# lm.summary()"
   ]
  },
  {
   "cell_type": "markdown",
   "metadata": {
    "hidden": true
   },
   "source": [
    "While we have plenty of paramters (1,506,186 ~ 224\\*224\\*3\\*10 = 1505280) our accuracy is really poor (~ .13)\n",
    "\n",
    "NOTE: A **simple model with no regularization and plenty of parameters that doesn't perform well indicates that our learning rate is too high.**\n",
    "\n",
    "From the notebook: \"Perhaps it is jumping to a solution where it predicts one or two classes with high confidence so that it can give a zero prediction to as many classes as possible - that's the best approach for a model that is no better than random, and there is likely to be where we would end up with a high learning rate\""
   ]
  },
  {
   "cell_type": "code",
   "execution_count": 12,
   "metadata": {
    "hidden": true
   },
   "outputs": [
    {
     "data": {
      "text/plain": [
       "array([[ 0.,  0.,  1.,  0.,  0.,  0.,  0.,  0.,  0.,  0.],\n",
       "       [ 0.,  0.,  0.,  0.,  0.,  1.,  0.,  0.,  0.,  0.],\n",
       "       [ 1.,  0.,  0.,  0.,  0.,  0.,  0.,  0.,  0.,  0.],\n",
       "       [ 1.,  0.,  0.,  0.,  0.,  0.,  0.,  0.,  0.,  0.],\n",
       "       [ 0.,  0.,  1.,  0.,  0.,  0.,  0.,  0.,  0.,  0.],\n",
       "       [ 0.,  0.,  1.,  0.,  0.,  0.,  0.,  0.,  0.,  0.],\n",
       "       [ 0.,  0.,  1.,  0.,  0.,  0.,  0.,  0.,  0.,  0.],\n",
       "       [ 1.,  0.,  0.,  0.,  0.,  0.,  0.,  0.,  0.,  0.],\n",
       "       [ 0.,  0.,  1.,  0.,  0.,  0.,  0.,  0.,  0.,  0.],\n",
       "       [ 0.,  0.,  1.,  0.,  0.,  0.,  0.,  0.,  0.,  0.]], dtype=float32)"
      ]
     },
     "execution_count": 12,
     "metadata": {},
     "output_type": "execute_result"
    }
   ],
   "source": [
    "# IF USING BATCHES ...\n",
    "# np.round(lm.predict_generator(train_batches, epoch_steps)[:10], 2)\n",
    "\n",
    "# IF USING IMAGE ARRAYS\n",
    "np.round(lm.predict(train_data, batch_size=batch_size)[:10],2)"
   ]
  },
  {
   "cell_type": "markdown",
   "metadata": {
    "hidden": true
   },
   "source": [
    "The above shows that indeed, using the standard learning rate of 0.001 is too high and causing the alorithm to select 1 most of the time.  If you see this, **lower the learning rate**"
   ]
  },
  {
   "cell_type": "code",
   "execution_count": 13,
   "metadata": {
    "hidden": true
   },
   "outputs": [
    {
     "name": "stdout",
     "output_type": "stream",
     "text": [
      "Train on 1500 samples, validate on 750 samples\n",
      "Epoch 1/5\n",
      "3s - loss: 13.3597 - acc: 0.1700 - val_loss: 13.6901 - val_acc: 0.1467\n",
      "Epoch 2/5\n",
      "3s - loss: 13.7181 - acc: 0.1473 - val_loss: 14.6929 - val_acc: 0.0880\n",
      "Epoch 3/5\n",
      "3s - loss: 13.5963 - acc: 0.1547 - val_loss: 13.8928 - val_acc: 0.1347\n",
      "Epoch 4/5\n",
      "3s - loss: 13.4444 - acc: 0.1647 - val_loss: 14.3509 - val_acc: 0.1080\n",
      "Epoch 5/5\n",
      "3s - loss: 13.6139 - acc: 0.1547 - val_loss: 14.3430 - val_acc: 0.1053\n"
     ]
    },
    {
     "data": {
      "text/plain": [
       "<keras.callbacks.History at 0x7ff88c759ef0>"
      ]
     },
     "execution_count": 13,
     "metadata": {},
     "output_type": "execute_result"
    }
   ],
   "source": [
    "lm.optimizer.lr = 1e-05\n",
    "lm.fit(train_data, train_labels, epochs=5, validation_data=(val_data, val_labels), verbose=2)"
   ]
  },
  {
   "cell_type": "markdown",
   "metadata": {
    "hidden": true
   },
   "source": [
    "BEST PRACTICE: **Start with a small learning rate, then increase really high, and then decrease it gradually by a factor of 10**"
   ]
  },
  {
   "cell_type": "code",
   "execution_count": 14,
   "metadata": {
    "hidden": true
   },
   "outputs": [
    {
     "name": "stdout",
     "output_type": "stream",
     "text": [
      "Train on 1500 samples, validate on 750 samples\n",
      "Epoch 1/5\n",
      "3s - loss: 13.5640 - acc: 0.1560 - val_loss: 14.5361 - val_acc: 0.0973\n",
      "Epoch 2/5\n",
      "3s - loss: 13.5402 - acc: 0.1573 - val_loss: 14.3184 - val_acc: 0.1107\n",
      "Epoch 3/5\n",
      "3s - loss: 13.5970 - acc: 0.1560 - val_loss: 14.1883 - val_acc: 0.1187\n",
      "Epoch 4/5\n",
      "3s - loss: 13.6925 - acc: 0.1500 - val_loss: 14.0030 - val_acc: 0.1307\n",
      "Epoch 5/5\n",
      "3s - loss: 13.5588 - acc: 0.1573 - val_loss: 14.3443 - val_acc: 0.1080\n"
     ]
    },
    {
     "data": {
      "text/plain": [
       "<keras.callbacks.History at 0x7ff88c759f98>"
      ]
     },
     "execution_count": 14,
     "metadata": {},
     "output_type": "execute_result"
    }
   ],
   "source": [
    "lm.optimizer.lr = 0.001\n",
    "lm.fit(train_data, train_labels, epochs=5, validation_data=(val_data, val_labels), verbose=2)"
   ]
  },
  {
   "cell_type": "code",
   "execution_count": 15,
   "metadata": {
    "hidden": true
   },
   "outputs": [
    {
     "name": "stdout",
     "output_type": "stream",
     "text": [
      "Train on 1500 samples, validate on 750 samples\n",
      "Epoch 1/5\n",
      "3s - loss: 13.3760 - acc: 0.1687 - val_loss: 13.9368 - val_acc: 0.1333\n",
      "Epoch 2/5\n",
      "3s - loss: 13.4390 - acc: 0.1653 - val_loss: 13.9690 - val_acc: 0.1333\n",
      "Epoch 3/5\n",
      "3s - loss: 13.4918 - acc: 0.1607 - val_loss: 13.6667 - val_acc: 0.1520\n",
      "Epoch 4/5\n",
      "3s - loss: 13.4839 - acc: 0.1633 - val_loss: 13.9260 - val_acc: 0.1360\n",
      "Epoch 5/5\n",
      "3s - loss: 13.4344 - acc: 0.1653 - val_loss: 13.5684 - val_acc: 0.1573\n"
     ]
    },
    {
     "data": {
      "text/plain": [
       "<keras.callbacks.History at 0x7ff88c7070b8>"
      ]
     },
     "execution_count": 15,
     "metadata": {},
     "output_type": "execute_result"
    }
   ],
   "source": [
    "lm.optimizer.lr = 0.0001\n",
    "lm.fit(train_data, train_labels, epochs=5, validation_data=(val_data, val_labels), verbose=2)"
   ]
  },
  {
   "cell_type": "markdown",
   "metadata": {
    "heading_collapsed": true,
    "hidden": true
   },
   "source": [
    "### Option 2: A simple linear classifier with L2 regularization."
   ]
  },
  {
   "cell_type": "code",
   "execution_count": 16,
   "metadata": {
    "hidden": true
   },
   "outputs": [],
   "source": [
    "def build_lm_reg():\n",
    "    model = Sequential([\n",
    "        BatchNormalization(axis=1, input_shape=(224,224,3)),\n",
    "        Flatten(),\n",
    "        Dense(10, activation='softmax', kernel_regularizer=l2(0.001))\n",
    "    ])\n",
    "    \n",
    "    model.compile(Adam(lr=1e-5), loss='categorical_crossentropy', metrics=['accuracy'])\n",
    "    return model"
   ]
  },
  {
   "cell_type": "code",
   "execution_count": 17,
   "metadata": {
    "hidden": true
   },
   "outputs": [],
   "source": [
    "lm = build_lm_reg()"
   ]
  },
  {
   "cell_type": "code",
   "execution_count": 18,
   "metadata": {
    "hidden": true
   },
   "outputs": [
    {
     "name": "stdout",
     "output_type": "stream",
     "text": [
      "Train on 1500 samples, validate on 750 samples\n",
      "Epoch 1/5\n",
      "3s - loss: 2.9119 - acc: 0.4393 - val_loss: 5.7881 - val_acc: 0.3800\n",
      "Epoch 2/5\n",
      "3s - loss: 0.5517 - acc: 0.8253 - val_loss: 4.6524 - val_acc: 0.3267\n",
      "Epoch 3/5\n",
      "3s - loss: 0.2400 - acc: 0.9327 - val_loss: 3.9197 - val_acc: 0.3720\n",
      "Epoch 4/5\n",
      "3s - loss: 0.0955 - acc: 0.9807 - val_loss: 3.1729 - val_acc: 0.4320\n",
      "Epoch 5/5\n",
      "3s - loss: 0.0582 - acc: 0.9893 - val_loss: 3.1366 - val_acc: 0.4387\n"
     ]
    },
    {
     "data": {
      "text/plain": [
       "<keras.callbacks.History at 0x7ff8272d3f60>"
      ]
     },
     "execution_count": 18,
     "metadata": {},
     "output_type": "execute_result"
    }
   ],
   "source": [
    "lm.fit(train_data, train_labels, epochs=5, validation_data=(val_data, val_labels), verbose=2)"
   ]
  },
  {
   "cell_type": "markdown",
   "metadata": {
    "heading_collapsed": true
   },
   "source": [
    "## Validate Size of Sample\n",
    "\n",
    "Once we are getting pretty consisten accuracy on our validation dataset, we should verify that our sample size is sufficient for further experiements.  If it isn't, adjust and run the previous code again"
   ]
  },
  {
   "cell_type": "code",
   "execution_count": 19,
   "metadata": {
    "hidden": true
   },
   "outputs": [
    {
     "name": "stdout",
     "output_type": "stream",
     "text": [
      "Found 750 images belonging to 10 classes.\n"
     ]
    }
   ],
   "source": [
    "rnd_batches = get_batches(val_path, batch_size=batch_size*2, shuffle=True)\n",
    "steps = math.ceil(rnd_batches.n / batch_size)\n",
    "val_results = [ lm.evaluate_generator(rnd_batches, steps) for i in range(10) ]"
   ]
  },
  {
   "cell_type": "code",
   "execution_count": 20,
   "metadata": {
    "hidden": true
   },
   "outputs": [
    {
     "data": {
      "text/plain": [
       "array([[ 3.14,  0.44],\n",
       "       [ 3.16,  0.44],\n",
       "       [ 3.14,  0.44],\n",
       "       [ 3.12,  0.44],\n",
       "       [ 3.16,  0.44],\n",
       "       [ 3.12,  0.44],\n",
       "       [ 3.14,  0.44],\n",
       "       [ 3.13,  0.44],\n",
       "       [ 3.11,  0.44],\n",
       "       [ 3.15,  0.44]])"
      ]
     },
     "execution_count": 20,
     "metadata": {},
     "output_type": "execute_result"
    }
   ],
   "source": [
    "np.round(val_results, 2)"
   ]
  },
  {
   "cell_type": "markdown",
   "metadata": {},
   "source": [
    "## NN Models for Sample"
   ]
  },
  {
   "cell_type": "markdown",
   "metadata": {
    "heading_collapsed": true
   },
   "source": [
    "###  Single Hidden Layer"
   ]
  },
  {
   "cell_type": "code",
   "execution_count": 21,
   "metadata": {
    "collapsed": true,
    "hidden": true
   },
   "outputs": [],
   "source": [
    "def nn():\n",
    "    model = Sequential([\n",
    "        BatchNormalization(axis=1, input_shape=(224,224,3)),\n",
    "        Flatten(),\n",
    "        Dense(128, activation='relu'),\n",
    "        BatchNormalization(),\n",
    "        Dense(10, activation='softmax')\n",
    "    ])\n",
    "    \n",
    "    model.compile(Adam(lr=1e-05), loss='categorical_crossentropy', metrics=['accuracy'])\n",
    "    return model"
   ]
  },
  {
   "cell_type": "code",
   "execution_count": 22,
   "metadata": {
    "hidden": true
   },
   "outputs": [],
   "source": [
    "model = nn()"
   ]
  },
  {
   "cell_type": "code",
   "execution_count": 23,
   "metadata": {
    "hidden": true
   },
   "outputs": [
    {
     "name": "stdout",
     "output_type": "stream",
     "text": [
      "Train on 1500 samples, validate on 750 samples\n",
      "Epoch 1/5\n",
      "14s - loss: 1.9553 - acc: 0.3553 - val_loss: 2.2258 - val_acc: 0.2587\n",
      "Epoch 2/5\n",
      "14s - loss: 1.2602 - acc: 0.6173 - val_loss: 2.0740 - val_acc: 0.3173\n",
      "Epoch 3/5\n",
      "14s - loss: 0.9435 - acc: 0.7620 - val_loss: 1.8366 - val_acc: 0.4120\n",
      "Epoch 4/5\n",
      "14s - loss: 0.7358 - acc: 0.8280 - val_loss: 2.0912 - val_acc: 0.3893\n",
      "Epoch 5/5\n",
      "14s - loss: 0.6254 - acc: 0.8653 - val_loss: 2.0172 - val_acc: 0.4200\n"
     ]
    },
    {
     "data": {
      "text/plain": [
       "<keras.callbacks.History at 0x7ff8106ddd30>"
      ]
     },
     "execution_count": 23,
     "metadata": {},
     "output_type": "execute_result"
    }
   ],
   "source": [
    "model.fit(train_data, train_labels, batch_size=batch_size, epochs=5, \n",
    "          validation_data=(val_data, val_labels), verbose=2)"
   ]
  },
  {
   "cell_type": "code",
   "execution_count": 25,
   "metadata": {
    "hidden": true
   },
   "outputs": [
    {
     "name": "stdout",
     "output_type": "stream",
     "text": [
      "Train on 1500 samples, validate on 750 samples\n",
      "Epoch 1/5\n",
      "14s - loss: 0.5246 - acc: 0.8927 - val_loss: 2.0304 - val_acc: 0.3933\n",
      "Epoch 2/5\n",
      "14s - loss: 0.4643 - acc: 0.9133 - val_loss: 2.1392 - val_acc: 0.3947\n",
      "Epoch 3/5\n",
      "14s - loss: 0.4584 - acc: 0.9260 - val_loss: 1.7990 - val_acc: 0.4213\n",
      "Epoch 4/5\n",
      "14s - loss: 0.3634 - acc: 0.9480 - val_loss: 2.1439 - val_acc: 0.4240\n",
      "Epoch 5/5\n",
      "14s - loss: 0.3261 - acc: 0.9540 - val_loss: 2.0715 - val_acc: 0.3707\n"
     ]
    },
    {
     "data": {
      "text/plain": [
       "<keras.callbacks.History at 0x7ff810652320>"
      ]
     },
     "execution_count": 25,
     "metadata": {},
     "output_type": "execute_result"
    }
   ],
   "source": [
    "model.optimizer.lr = 0.01\n",
    "model.fit(train_data, train_labels, batch_size=batch_size, epochs=5, \n",
    "          validation_data=(val_data, val_labels), verbose=2)"
   ]
  },
  {
   "cell_type": "markdown",
   "metadata": {},
   "source": [
    "### Simple CNN\n",
    "\n",
    "2 conv layers with max pooling + a simple dense network is a good simple CNN to start with"
   ]
  },
  {
   "cell_type": "code",
   "execution_count": 26,
   "metadata": {
    "collapsed": true
   },
   "outputs": [],
   "source": [
    "def simple_cnn():\n",
    "    model = Sequential([\n",
    "        BatchNormalization(axis=1, input_shape=(224,224,3)),\n",
    "        Conv2D(32, (3,3), activation='relu'),\n",
    "        BatchNormalization(axis=1),\n",
    "        MaxPooling2D((3,3)),\n",
    "        Conv2D(64, (3,3), activation='relu'),\n",
    "        BatchNormalization(axis=1),\n",
    "        MaxPooling2D((3,3)),\n",
    "        Flatten(),\n",
    "        Dense(200, activation='relu'),\n",
    "        BatchNormalization(),\n",
    "        Dense(10, activation='softmax')\n",
    "    ])\n",
    "\n",
    "    model.compile(Adam(lr=1e-5), loss='categorical_crossentropy', metrics=['accuracy'])\n",
    "    return model"
   ]
  },
  {
   "cell_type": "code",
   "execution_count": 27,
   "metadata": {
    "collapsed": true
   },
   "outputs": [],
   "source": [
    "model = simple_cnn()"
   ]
  },
  {
   "cell_type": "code",
   "execution_count": 28,
   "metadata": {},
   "outputs": [
    {
     "name": "stdout",
     "output_type": "stream",
     "text": [
      "Train on 1500 samples, validate on 750 samples\n",
      "Epoch 1/2\n",
      "53s - loss: 2.0548 - acc: 0.2933 - val_loss: 2.2419 - val_acc: 0.2307\n",
      "Epoch 2/2\n",
      "51s - loss: 1.2663 - acc: 0.6160 - val_loss: 2.1046 - val_acc: 0.3093\n"
     ]
    },
    {
     "data": {
      "text/plain": [
       "<keras.callbacks.History at 0x7ff7f101be10>"
      ]
     },
     "execution_count": 28,
     "metadata": {},
     "output_type": "execute_result"
    }
   ],
   "source": [
    "model.fit(train_data, train_labels, batch_size=batch_size, epochs=2, shuffle=True, \n",
    "          validation_data=(val_data, val_labels), verbose=2)"
   ]
  },
  {
   "cell_type": "code",
   "execution_count": 29,
   "metadata": {},
   "outputs": [
    {
     "name": "stdout",
     "output_type": "stream",
     "text": [
      "Train on 1500 samples, validate on 750 samples\n",
      "Epoch 1/5\n",
      "51s - loss: 0.9307 - acc: 0.7533 - val_loss: 2.0036 - val_acc: 0.3587\n",
      "Epoch 2/5\n",
      "51s - loss: 0.7270 - acc: 0.8233 - val_loss: 1.9519 - val_acc: 0.4227\n",
      "Epoch 3/5\n",
      "51s - loss: 0.5729 - acc: 0.8740 - val_loss: 1.9649 - val_acc: 0.4000\n",
      "Epoch 4/5\n",
      "51s - loss: 0.4463 - acc: 0.9133 - val_loss: 1.9553 - val_acc: 0.4133\n",
      "Epoch 5/5\n",
      "52s - loss: 0.3936 - acc: 0.9293 - val_loss: 1.9389 - val_acc: 0.4333\n"
     ]
    },
    {
     "data": {
      "text/plain": [
       "<keras.callbacks.History at 0x7ff7f0f40438>"
      ]
     },
     "execution_count": 29,
     "metadata": {},
     "output_type": "execute_result"
    }
   ],
   "source": [
    "model.optimizer.lr = 0.001\n",
    "model.fit(train_data, train_labels, batch_size=batch_size, epochs=5, shuffle=True, \n",
    "          validation_data=(val_data, val_labels), verbose=2)"
   ]
  },
  {
   "cell_type": "markdown",
   "metadata": {},
   "source": [
    "## Data Augmentation"
   ]
  },
  {
   "cell_type": "code",
   "execution_count": 30,
   "metadata": {
    "collapsed": true
   },
   "outputs": [],
   "source": [
    "def test_augmentation(rotation_range=0.0, width_shift_range=0.0, height_shift_range=0.0, \n",
    "                      shear_range=0.0, zoom_range=0.0, channel_shift_range=0.0,\n",
    "                      horizontal_flip=False, vertical_flip=False):\n",
    "    limit_mem()\n",
    "    \n",
    "    gen = image.ImageDataGenerator(\n",
    "            rotation_range=rotation_range,           # degrees (0 to 180)\n",
    "            width_shift_range=width_shift_range,     # fraction of total width\n",
    "            height_shift_range=height_shift_range,   # fraction of total height\n",
    "            shear_range=shear_range,                 # shear intensity (shear angle in radians; 2 radians = 360 degrees)\n",
    "            zoom_range=zoom_range,                   # amount of zoom\n",
    "            channel_shift_range=channel_shift_range, # shift range for each channels\n",
    "            horizontal_flip=horizontal_flip, \n",
    "            vertical_flip=vertical_flip)\n",
    "    \n",
    "    da_batches = gen.flow(train_data, train_labels, batch_size=batch_size, shuffle=True)\n",
    "    \n",
    "    model = simple_cnn()\n",
    "    \n",
    "    epoch_steps = math.ceil(da_batches.n/da_batches.batch_size)\n",
    "    model.fit_generator(da_batches, epoch_steps, epochs=2, validation_data=(val_data, val_labels), verbose=2)\n",
    "    \n",
    "    model.optimizer.lr = 0.001\n",
    "    history = model.fit_generator(da_batches, epoch_steps, epochs=5, validation_data=(val_data, val_labels), verbose=2)\n",
    "    \n",
    "    return history"
   ]
  },
  {
   "cell_type": "code",
   "execution_count": 31,
   "metadata": {},
   "outputs": [
    {
     "name": "stdout",
     "output_type": "stream",
     "text": [
      "> rotation_range = 0\n",
      "Epoch 1/2\n",
      "52s - loss: 1.9792 - acc: 0.3393 - val_loss: 2.1059 - val_acc: 0.3053\n",
      "Epoch 2/2\n",
      "52s - loss: 1.1461 - acc: 0.6547 - val_loss: 2.0625 - val_acc: 0.3600\n",
      "Epoch 1/5\n",
      "51s - loss: 0.8226 - acc: 0.7793 - val_loss: 1.9166 - val_acc: 0.4413\n",
      "Epoch 2/5\n",
      "52s - loss: 0.6323 - acc: 0.8620 - val_loss: 1.9410 - val_acc: 0.4120\n",
      "Epoch 3/5\n",
      "52s - loss: 0.4968 - acc: 0.8920 - val_loss: 1.9140 - val_acc: 0.4160\n",
      "Epoch 4/5\n",
      "52s - loss: 0.4145 - acc: 0.9133 - val_loss: 1.9376 - val_acc: 0.4080\n",
      "Epoch 5/5\n",
      "52s - loss: 0.3509 - acc: 0.9373 - val_loss: 1.8453 - val_acc: 0.4520\n",
      "> rotation_range = 1\n",
      "Epoch 1/2\n",
      "52s - loss: 2.0780 - acc: 0.3027 - val_loss: 2.2773 - val_acc: 0.2480\n",
      "Epoch 2/2\n",
      "52s - loss: 1.2817 - acc: 0.5967 - val_loss: 2.0705 - val_acc: 0.3213\n",
      "Epoch 1/5\n",
      "52s - loss: 0.9359 - acc: 0.7387 - val_loss: 1.9273 - val_acc: 0.4333\n",
      "Epoch 2/5\n",
      "52s - loss: 0.7145 - acc: 0.8113 - val_loss: 2.0870 - val_acc: 0.3933\n",
      "Epoch 3/5\n",
      "52s - loss: 0.5566 - acc: 0.8713 - val_loss: 1.9209 - val_acc: 0.4573\n",
      "Epoch 4/5\n",
      "52s - loss: 0.4672 - acc: 0.9007 - val_loss: 1.9259 - val_acc: 0.4547\n",
      "Epoch 5/5\n",
      "52s - loss: 0.4078 - acc: 0.9167 - val_loss: 1.9582 - val_acc: 0.4413\n",
      "> rotation_range = 3\n",
      "Epoch 1/2\n",
      "52s - loss: 2.1237 - acc: 0.2673 - val_loss: 2.2212 - val_acc: 0.2773\n",
      "Epoch 2/2\n",
      "52s - loss: 1.3495 - acc: 0.5900 - val_loss: 2.0865 - val_acc: 0.3653\n",
      "Epoch 1/5\n",
      "52s - loss: 1.0489 - acc: 0.6920 - val_loss: 2.0196 - val_acc: 0.4160\n",
      "Epoch 2/5\n",
      "52s - loss: 0.8386 - acc: 0.7693 - val_loss: 1.8361 - val_acc: 0.4467\n",
      "Epoch 3/5\n",
      "52s - loss: 0.6842 - acc: 0.8280 - val_loss: 1.8919 - val_acc: 0.4333\n",
      "Epoch 4/5\n",
      "52s - loss: 0.5787 - acc: 0.8580 - val_loss: 1.8796 - val_acc: 0.4813\n",
      "Epoch 5/5\n",
      "52s - loss: 0.5200 - acc: 0.8760 - val_loss: 1.8492 - val_acc: 0.4547\n",
      "> rotation_range = 5\n",
      "Epoch 1/2\n",
      "52s - loss: 2.1516 - acc: 0.2880 - val_loss: 2.2470 - val_acc: 0.2573\n",
      "Epoch 2/2\n",
      "51s - loss: 1.4484 - acc: 0.5387 - val_loss: 2.0191 - val_acc: 0.3333\n",
      "Epoch 1/5\n",
      "52s - loss: 1.1419 - acc: 0.6673 - val_loss: 1.9061 - val_acc: 0.3827\n",
      "Epoch 2/5\n",
      "51s - loss: 0.9691 - acc: 0.7227 - val_loss: 1.9572 - val_acc: 0.4027\n",
      "Epoch 3/5\n",
      "51s - loss: 0.8034 - acc: 0.7867 - val_loss: 1.7907 - val_acc: 0.4333\n",
      "Epoch 4/5\n",
      "51s - loss: 0.6877 - acc: 0.8127 - val_loss: 1.7871 - val_acc: 0.4467\n",
      "Epoch 5/5\n",
      "51s - loss: 0.6111 - acc: 0.8393 - val_loss: 1.7084 - val_acc: 0.4440\n",
      "> rotation_range = 10\n",
      "Epoch 1/2\n",
      "52s - loss: 2.2098 - acc: 0.2500 - val_loss: 2.1718 - val_acc: 0.2800\n",
      "Epoch 2/2\n",
      "52s - loss: 1.5618 - acc: 0.4880 - val_loss: 2.1188 - val_acc: 0.3680\n",
      "Epoch 1/5\n",
      "52s - loss: 1.2702 - acc: 0.6060 - val_loss: 1.9895 - val_acc: 0.3693\n",
      "Epoch 2/5\n",
      "52s - loss: 1.1024 - acc: 0.6680 - val_loss: 1.9224 - val_acc: 0.4373\n",
      "Epoch 3/5\n",
      "52s - loss: 0.9400 - acc: 0.7240 - val_loss: 1.7623 - val_acc: 0.4787\n",
      "Epoch 4/5\n",
      "52s - loss: 0.7818 - acc: 0.7893 - val_loss: 1.8771 - val_acc: 0.4867\n",
      "Epoch 5/5\n",
      "52s - loss: 0.7307 - acc: 0.7980 - val_loss: 1.7335 - val_acc: 0.4640\n",
      "> width_shift_range = 0\n",
      "Epoch 1/2\n",
      "52s - loss: 2.0406 - acc: 0.3173 - val_loss: 2.1273 - val_acc: 0.2613\n",
      "Epoch 2/2\n",
      "52s - loss: 1.2526 - acc: 0.6300 - val_loss: 1.9830 - val_acc: 0.3800\n",
      "Epoch 1/5\n",
      "52s - loss: 0.8837 - acc: 0.7767 - val_loss: 1.8174 - val_acc: 0.4360\n",
      "Epoch 2/5\n",
      "52s - loss: 0.6931 - acc: 0.8460 - val_loss: 1.7804 - val_acc: 0.4600\n",
      "Epoch 3/5\n",
      "52s - loss: 0.5389 - acc: 0.8973 - val_loss: 1.7738 - val_acc: 0.4640\n",
      "Epoch 4/5\n",
      "51s - loss: 0.4869 - acc: 0.8973 - val_loss: 1.8022 - val_acc: 0.4627\n",
      "Epoch 5/5\n",
      "51s - loss: 0.3826 - acc: 0.9293 - val_loss: 1.7442 - val_acc: 0.4853\n",
      "> width_shift_range = 0.05\n",
      "Epoch 1/2\n",
      "53s - loss: 2.1889 - acc: 0.2493 - val_loss: 2.3729 - val_acc: 0.2560\n",
      "Epoch 2/2\n",
      "52s - loss: 1.5697 - acc: 0.4880 - val_loss: 2.3297 - val_acc: 0.3147\n",
      "Epoch 1/5\n",
      "52s - loss: 1.2897 - acc: 0.5800 - val_loss: 2.0598 - val_acc: 0.4067\n",
      "Epoch 2/5\n",
      "52s - loss: 1.1030 - acc: 0.6767 - val_loss: 1.8685 - val_acc: 0.4693\n",
      "Epoch 3/5\n",
      "52s - loss: 0.9796 - acc: 0.7120 - val_loss: 1.7893 - val_acc: 0.4800\n",
      "Epoch 4/5\n",
      "52s - loss: 0.8311 - acc: 0.7660 - val_loss: 1.8687 - val_acc: 0.5267\n",
      "Epoch 5/5\n",
      "52s - loss: 0.7922 - acc: 0.7880 - val_loss: 1.6563 - val_acc: 0.5400\n",
      "> width_shift_range = 1\n",
      "Epoch 1/2\n",
      "53s - loss: 2.7561 - acc: 0.1033 - val_loss: 2.7498 - val_acc: 0.1387\n",
      "Epoch 2/2\n",
      "51s - loss: 2.5137 - acc: 0.1473 - val_loss: 2.6960 - val_acc: 0.1080\n",
      "Epoch 1/5\n",
      "52s - loss: 2.4447 - acc: 0.1393 - val_loss: 2.5612 - val_acc: 0.1107\n",
      "Epoch 2/5\n",
      "52s - loss: 2.3673 - acc: 0.1667 - val_loss: 2.7617 - val_acc: 0.1480\n",
      "Epoch 3/5\n",
      "52s - loss: 2.3184 - acc: 0.1733 - val_loss: 2.4916 - val_acc: 0.1787\n",
      "Epoch 4/5\n",
      "52s - loss: 2.3078 - acc: 0.1893 - val_loss: 2.4843 - val_acc: 0.1973\n",
      "Epoch 5/5\n",
      "52s - loss: 2.2882 - acc: 0.1853 - val_loss: 2.3570 - val_acc: 0.1827\n",
      "> width_shift_range = 2\n",
      "Epoch 1/2\n",
      "53s - loss: 2.7010 - acc: 0.0980 - val_loss: 3.0602 - val_acc: 0.0973\n",
      "Epoch 2/2\n",
      "52s - loss: 2.5079 - acc: 0.1267 - val_loss: 3.1972 - val_acc: 0.1147\n",
      "Epoch 1/5\n",
      "52s - loss: 2.3945 - acc: 0.1380 - val_loss: 2.6480 - val_acc: 0.1453\n",
      "Epoch 2/5\n",
      "51s - loss: 2.3944 - acc: 0.1553 - val_loss: 2.6280 - val_acc: 0.1267\n",
      "Epoch 3/5\n",
      "52s - loss: 2.3636 - acc: 0.1520 - val_loss: 2.5979 - val_acc: 0.1653\n",
      "Epoch 4/5\n",
      "51s - loss: 2.3380 - acc: 0.1740 - val_loss: 2.5900 - val_acc: 0.1400\n",
      "Epoch 5/5\n",
      "51s - loss: 2.3072 - acc: 0.1720 - val_loss: 2.5623 - val_acc: 0.1187\n",
      "> width_shift_range = 4\n",
      "Epoch 1/2\n",
      "53s - loss: 2.7014 - acc: 0.1180 - val_loss: 3.9703 - val_acc: 0.1267\n",
      "Epoch 2/2\n",
      "51s - loss: 2.4788 - acc: 0.1453 - val_loss: 3.9556 - val_acc: 0.1333\n",
      "Epoch 1/5\n",
      "51s - loss: 2.3877 - acc: 0.1493 - val_loss: 3.6264 - val_acc: 0.1173\n",
      "Epoch 2/5\n",
      "51s - loss: 2.3691 - acc: 0.1420 - val_loss: 2.9340 - val_acc: 0.1440\n",
      "Epoch 3/5\n",
      "51s - loss: 2.3181 - acc: 0.1720 - val_loss: 2.9768 - val_acc: 0.1040\n",
      "Epoch 4/5\n",
      "51s - loss: 2.3051 - acc: 0.1840 - val_loss: 2.9529 - val_acc: 0.1213\n",
      "Epoch 5/5\n",
      "51s - loss: 2.2890 - acc: 0.1833 - val_loss: 2.6600 - val_acc: 0.1387\n",
      "> height_shift_range = 0\n",
      "Epoch 1/2\n",
      "54s - loss: 2.0496 - acc: 0.3107 - val_loss: 2.2577 - val_acc: 0.2320\n",
      "Epoch 2/2\n",
      "52s - loss: 1.2248 - acc: 0.6400 - val_loss: 2.1136 - val_acc: 0.3440\n",
      "Epoch 1/5\n",
      "52s - loss: 0.8825 - acc: 0.7720 - val_loss: 1.9964 - val_acc: 0.4253\n",
      "Epoch 2/5\n",
      "52s - loss: 0.6599 - acc: 0.8560 - val_loss: 1.9942 - val_acc: 0.4227\n",
      "Epoch 3/5\n",
      "52s - loss: 0.5200 - acc: 0.8920 - val_loss: 2.0669 - val_acc: 0.4187\n",
      "Epoch 4/5\n",
      "52s - loss: 0.4279 - acc: 0.9220 - val_loss: 1.9727 - val_acc: 0.4387\n",
      "Epoch 5/5\n",
      "52s - loss: 0.3476 - acc: 0.9380 - val_loss: 1.9164 - val_acc: 0.4507\n",
      "> height_shift_range = 0.05\n",
      "Epoch 1/2\n",
      "54s - loss: 2.2978 - acc: 0.2240 - val_loss: 2.3765 - val_acc: 0.2053\n",
      "Epoch 2/2\n",
      "52s - loss: 1.6667 - acc: 0.4560 - val_loss: 2.1149 - val_acc: 0.2973\n",
      "Epoch 1/5\n",
      "52s - loss: 1.3691 - acc: 0.5773 - val_loss: 2.0485 - val_acc: 0.3053\n",
      "Epoch 2/5\n",
      "52s - loss: 1.1329 - acc: 0.6667 - val_loss: 2.0146 - val_acc: 0.3133\n",
      "Epoch 3/5\n",
      "52s - loss: 0.9933 - acc: 0.7173 - val_loss: 2.0177 - val_acc: 0.3507\n",
      "Epoch 4/5\n",
      "52s - loss: 0.8723 - acc: 0.7380 - val_loss: 1.9394 - val_acc: 0.3560\n",
      "Epoch 5/5\n",
      "52s - loss: 0.7955 - acc: 0.8013 - val_loss: 1.8043 - val_acc: 0.4067\n",
      "> height_shift_range = 1\n",
      "Epoch 1/2\n",
      "54s - loss: 2.6773 - acc: 0.1047 - val_loss: 2.5718 - val_acc: 0.1307\n",
      "Epoch 2/2\n",
      "52s - loss: 2.4103 - acc: 0.1547 - val_loss: 2.4841 - val_acc: 0.1640\n",
      "Epoch 1/5\n",
      "52s - loss: 2.3456 - acc: 0.1613 - val_loss: 2.4538 - val_acc: 0.1827\n",
      "Epoch 2/5\n",
      "52s - loss: 2.3091 - acc: 0.1700 - val_loss: 2.3486 - val_acc: 0.2053\n",
      "Epoch 3/5\n",
      "52s - loss: 2.2608 - acc: 0.1900 - val_loss: 2.4170 - val_acc: 0.1947\n",
      "Epoch 4/5\n",
      "52s - loss: 2.2283 - acc: 0.2020 - val_loss: 2.2926 - val_acc: 0.1893\n",
      "Epoch 5/5\n",
      "52s - loss: 2.2285 - acc: 0.2000 - val_loss: 2.3697 - val_acc: 0.1867\n",
      "> height_shift_range = 2\n",
      "Epoch 1/2\n",
      "54s - loss: 2.6469 - acc: 0.1013 - val_loss: 2.8072 - val_acc: 0.0973\n",
      "Epoch 2/2\n",
      "52s - loss: 2.3778 - acc: 0.1440 - val_loss: 2.9304 - val_acc: 0.0947\n",
      "Epoch 1/5\n",
      "52s - loss: 2.3604 - acc: 0.1500 - val_loss: 2.6642 - val_acc: 0.1053\n",
      "Epoch 2/5\n",
      "52s - loss: 2.2633 - acc: 0.1893 - val_loss: 2.6809 - val_acc: 0.1347\n",
      "Epoch 3/5\n",
      "52s - loss: 2.2756 - acc: 0.1847 - val_loss: 2.6322 - val_acc: 0.1120\n",
      "Epoch 4/5\n",
      "52s - loss: 2.2258 - acc: 0.2093 - val_loss: 2.5612 - val_acc: 0.1307\n",
      "Epoch 5/5\n",
      "52s - loss: 2.2211 - acc: 0.1880 - val_loss: 2.4914 - val_acc: 0.1427\n",
      "> height_shift_range = 4\n"
     ]
    },
    {
     "name": "stdout",
     "output_type": "stream",
     "text": [
      "Epoch 1/2\n",
      "54s - loss: 2.5766 - acc: 0.1127 - val_loss: 2.7190 - val_acc: 0.1573\n",
      "Epoch 2/2\n",
      "52s - loss: 2.3819 - acc: 0.1333 - val_loss: 2.8952 - val_acc: 0.1107\n",
      "Epoch 1/5\n",
      "52s - loss: 2.3239 - acc: 0.1500 - val_loss: 2.7613 - val_acc: 0.1213\n",
      "Epoch 2/5\n",
      "52s - loss: 2.2748 - acc: 0.1953 - val_loss: 2.7353 - val_acc: 0.1107\n",
      "Epoch 3/5\n",
      "52s - loss: 2.2855 - acc: 0.1733 - val_loss: 2.9431 - val_acc: 0.1080\n",
      "Epoch 4/5\n",
      "52s - loss: 2.2583 - acc: 0.1853 - val_loss: 2.7123 - val_acc: 0.1267\n",
      "Epoch 5/5\n",
      "52s - loss: 2.2200 - acc: 0.1947 - val_loss: 3.0513 - val_acc: 0.1440\n",
      "> shear_range = 0\n",
      "Epoch 1/2\n",
      "54s - loss: 2.0442 - acc: 0.3247 - val_loss: 2.0573 - val_acc: 0.3347\n",
      "Epoch 2/2\n",
      "52s - loss: 1.1625 - acc: 0.6580 - val_loss: 2.0630 - val_acc: 0.3920\n",
      "Epoch 1/5\n",
      "52s - loss: 0.8343 - acc: 0.7827 - val_loss: 1.8283 - val_acc: 0.4373\n",
      "Epoch 2/5\n",
      "52s - loss: 0.6243 - acc: 0.8620 - val_loss: 1.7455 - val_acc: 0.4533\n",
      "Epoch 3/5\n",
      "52s - loss: 0.5471 - acc: 0.8800 - val_loss: 1.8192 - val_acc: 0.4867\n",
      "Epoch 4/5\n",
      "52s - loss: 0.4191 - acc: 0.9220 - val_loss: 1.7612 - val_acc: 0.4827\n",
      "Epoch 5/5\n",
      "52s - loss: 0.3285 - acc: 0.9360 - val_loss: 1.7031 - val_acc: 0.4720\n",
      "> shear_range = 0.1\n",
      "Epoch 1/2\n",
      "54s - loss: 2.0947 - acc: 0.2967 - val_loss: 2.0750 - val_acc: 0.3107\n",
      "Epoch 2/2\n",
      "52s - loss: 1.4101 - acc: 0.5727 - val_loss: 1.9370 - val_acc: 0.3667\n",
      "Epoch 1/5\n",
      "52s - loss: 1.0754 - acc: 0.6953 - val_loss: 1.9167 - val_acc: 0.4133\n",
      "Epoch 2/5\n",
      "52s - loss: 0.8856 - acc: 0.7653 - val_loss: 1.7671 - val_acc: 0.4440\n",
      "Epoch 3/5\n",
      "52s - loss: 0.7133 - acc: 0.8140 - val_loss: 1.8331 - val_acc: 0.4413\n",
      "Epoch 4/5\n",
      "52s - loss: 0.5974 - acc: 0.8660 - val_loss: 1.8433 - val_acc: 0.4667\n",
      "Epoch 5/5\n",
      "52s - loss: 0.5209 - acc: 0.8833 - val_loss: 1.6397 - val_acc: 0.5093\n",
      "> shear_range = 0.15\n",
      "Epoch 1/2\n",
      "54s - loss: 2.0994 - acc: 0.2993 - val_loss: 2.1100 - val_acc: 0.3013\n",
      "Epoch 2/2\n",
      "52s - loss: 1.4030 - acc: 0.5580 - val_loss: 2.0051 - val_acc: 0.3613\n",
      "Epoch 1/5\n",
      "52s - loss: 1.0976 - acc: 0.6687 - val_loss: 1.8832 - val_acc: 0.4093\n",
      "Epoch 2/5\n",
      "52s - loss: 0.8772 - acc: 0.7440 - val_loss: 2.0557 - val_acc: 0.3827\n",
      "Epoch 3/5\n",
      "52s - loss: 0.7414 - acc: 0.8000 - val_loss: 1.9003 - val_acc: 0.4293\n",
      "Epoch 4/5\n",
      "52s - loss: 0.6201 - acc: 0.8327 - val_loss: 1.8457 - val_acc: 0.4440\n",
      "Epoch 5/5\n",
      "52s - loss: 0.5426 - acc: 0.8707 - val_loss: 1.9210 - val_acc: 0.4733\n",
      "> shear_range = 0.2\n",
      "Epoch 1/2\n",
      "54s - loss: 2.1716 - acc: 0.2660 - val_loss: 2.2973 - val_acc: 0.2413\n",
      "Epoch 2/2\n",
      "52s - loss: 1.5004 - acc: 0.5080 - val_loss: 2.2078 - val_acc: 0.2840\n",
      "Epoch 1/5\n",
      "52s - loss: 1.1657 - acc: 0.6467 - val_loss: 2.2344 - val_acc: 0.3240\n",
      "Epoch 2/5\n",
      "52s - loss: 1.0200 - acc: 0.7013 - val_loss: 2.1830 - val_acc: 0.3653\n",
      "Epoch 3/5\n",
      "52s - loss: 0.8506 - acc: 0.7740 - val_loss: 2.0092 - val_acc: 0.4067\n",
      "Epoch 4/5\n",
      "52s - loss: 0.7817 - acc: 0.7847 - val_loss: 1.9066 - val_acc: 0.4120\n",
      "Epoch 5/5\n",
      "52s - loss: 0.6716 - acc: 0.8340 - val_loss: 2.0398 - val_acc: 0.3813\n",
      "> shear_range = 0.3\n",
      "Epoch 1/2\n",
      "55s - loss: 2.2774 - acc: 0.2440 - val_loss: 2.1621 - val_acc: 0.2560\n",
      "Epoch 2/2\n",
      "52s - loss: 1.5944 - acc: 0.4720 - val_loss: 2.0411 - val_acc: 0.3360\n",
      "Epoch 1/5\n",
      "52s - loss: 1.3185 - acc: 0.5813 - val_loss: 1.9042 - val_acc: 0.3800\n",
      "Epoch 2/5\n",
      "52s - loss: 1.0951 - acc: 0.6633 - val_loss: 1.8987 - val_acc: 0.4133\n",
      "Epoch 3/5\n",
      "52s - loss: 0.9392 - acc: 0.7187 - val_loss: 1.6947 - val_acc: 0.4533\n",
      "Epoch 4/5\n",
      "52s - loss: 0.8474 - acc: 0.7573 - val_loss: 1.7885 - val_acc: 0.4653\n",
      "Epoch 5/5\n",
      "52s - loss: 0.7336 - acc: 0.7980 - val_loss: 1.7217 - val_acc: 0.4827\n",
      "> zoom_range = 0\n",
      "Epoch 1/2\n",
      "55s - loss: 1.9957 - acc: 0.3407 - val_loss: 2.2941 - val_acc: 0.2667\n",
      "Epoch 2/2\n",
      "52s - loss: 1.1776 - acc: 0.6420 - val_loss: 2.3953 - val_acc: 0.3067\n",
      "Epoch 1/5\n",
      "52s - loss: 0.8206 - acc: 0.7813 - val_loss: 2.0659 - val_acc: 0.3973\n",
      "Epoch 2/5\n",
      "52s - loss: 0.6194 - acc: 0.8487 - val_loss: 2.0056 - val_acc: 0.4320\n",
      "Epoch 3/5\n",
      "52s - loss: 0.5322 - acc: 0.8767 - val_loss: 1.7499 - val_acc: 0.4840\n",
      "Epoch 4/5\n",
      "52s - loss: 0.4452 - acc: 0.8973 - val_loss: 1.7072 - val_acc: 0.5040\n",
      "Epoch 5/5\n",
      "52s - loss: 0.3583 - acc: 0.9253 - val_loss: 1.9060 - val_acc: 0.4453\n",
      "> zoom_range = 0.1\n",
      "Epoch 1/2\n",
      "54s - loss: 2.1582 - acc: 0.2740 - val_loss: 2.1319 - val_acc: 0.2840\n",
      "Epoch 2/2\n",
      "52s - loss: 1.4468 - acc: 0.5107 - val_loss: 2.1605 - val_acc: 0.3667\n",
      "Epoch 1/5\n",
      "52s - loss: 1.1139 - acc: 0.6560 - val_loss: 2.0572 - val_acc: 0.3547\n",
      "Epoch 2/5\n",
      "52s - loss: 0.9367 - acc: 0.7307 - val_loss: 2.0617 - val_acc: 0.3920\n",
      "Epoch 3/5\n",
      "52s - loss: 0.8087 - acc: 0.7700 - val_loss: 1.8693 - val_acc: 0.4587\n",
      "Epoch 4/5\n",
      "52s - loss: 0.7433 - acc: 0.7980 - val_loss: 1.9030 - val_acc: 0.4480\n",
      "Epoch 5/5\n",
      "52s - loss: 0.6778 - acc: 0.8093 - val_loss: 1.8791 - val_acc: 0.4813\n",
      "> zoom_range = 0.15\n",
      "Epoch 1/2\n",
      "55s - loss: 2.1688 - acc: 0.2820 - val_loss: 2.4112 - val_acc: 0.2227\n",
      "Epoch 2/2\n",
      "52s - loss: 1.5780 - acc: 0.4800 - val_loss: 2.2163 - val_acc: 0.2987\n",
      "Epoch 1/5\n",
      "52s - loss: 1.2864 - acc: 0.6060 - val_loss: 2.1136 - val_acc: 0.3307\n",
      "Epoch 2/5\n",
      "52s - loss: 1.1459 - acc: 0.6527 - val_loss: 1.9343 - val_acc: 0.4147\n",
      "Epoch 3/5\n",
      "52s - loss: 0.9899 - acc: 0.7040 - val_loss: 1.8484 - val_acc: 0.4427\n",
      "Epoch 4/5\n",
      "52s - loss: 0.8959 - acc: 0.7373 - val_loss: 1.8542 - val_acc: 0.4173\n",
      "Epoch 5/5\n",
      "52s - loss: 0.7919 - acc: 0.7780 - val_loss: 1.8380 - val_acc: 0.4453\n",
      "> zoom_range = 0.2\n",
      "Epoch 1/2\n",
      "55s - loss: 2.3187 - acc: 0.2253 - val_loss: 2.2531 - val_acc: 0.2173\n",
      "Epoch 2/2\n",
      "52s - loss: 1.7227 - acc: 0.4133 - val_loss: 2.1276 - val_acc: 0.3400\n",
      "Epoch 1/5\n",
      "52s - loss: 1.4500 - acc: 0.5253 - val_loss: 1.9512 - val_acc: 0.3840\n",
      "Epoch 2/5\n",
      "52s - loss: 1.2223 - acc: 0.6247 - val_loss: 1.9670 - val_acc: 0.4147\n",
      "Epoch 3/5\n",
      "52s - loss: 1.1296 - acc: 0.6440 - val_loss: 1.9298 - val_acc: 0.4200\n",
      "Epoch 4/5\n",
      "52s - loss: 0.9804 - acc: 0.7080 - val_loss: 2.1543 - val_acc: 0.4040\n",
      "Epoch 5/5\n",
      "52s - loss: 0.9090 - acc: 0.7327 - val_loss: 1.8856 - val_acc: 0.4520\n",
      "> zoom_range = 0.3\n",
      "Epoch 1/2\n",
      "55s - loss: 2.4417 - acc: 0.2013 - val_loss: 2.5534 - val_acc: 0.2067\n",
      "Epoch 2/2\n",
      "52s - loss: 1.9665 - acc: 0.3500 - val_loss: 2.3857 - val_acc: 0.3160\n",
      "Epoch 1/5\n",
      "52s - loss: 1.6867 - acc: 0.4387 - val_loss: 2.3187 - val_acc: 0.3200\n",
      "Epoch 2/5\n",
      "52s - loss: 1.5855 - acc: 0.4660 - val_loss: 2.3772 - val_acc: 0.3200\n",
      "Epoch 3/5\n",
      "52s - loss: 1.4167 - acc: 0.5367 - val_loss: 2.1194 - val_acc: 0.3653\n",
      "Epoch 4/5\n",
      "52s - loss: 1.2783 - acc: 0.5760 - val_loss: 2.3155 - val_acc: 0.3133\n",
      "Epoch 5/5\n",
      "52s - loss: 1.2576 - acc: 0.5913 - val_loss: 2.0863 - val_acc: 0.3947\n",
      "> channel_shift_range = 0\n",
      "Epoch 1/2\n",
      "55s - loss: 2.0273 - acc: 0.3200 - val_loss: 2.2468 - val_acc: 0.2400\n",
      "Epoch 2/2\n",
      "52s - loss: 1.2493 - acc: 0.6000 - val_loss: 2.2795 - val_acc: 0.3253\n",
      "Epoch 1/5\n",
      "52s - loss: 0.8529 - acc: 0.7760 - val_loss: 2.0612 - val_acc: 0.3867\n",
      "Epoch 2/5\n",
      "52s - loss: 0.6550 - acc: 0.8520 - val_loss: 1.8047 - val_acc: 0.4680\n",
      "Epoch 3/5\n",
      "52s - loss: 0.4957 - acc: 0.8913 - val_loss: 2.0246 - val_acc: 0.4133\n",
      "Epoch 4/5\n",
      "52s - loss: 0.3996 - acc: 0.9213 - val_loss: 1.9188 - val_acc: 0.4413\n",
      "Epoch 5/5\n",
      "52s - loss: 0.3431 - acc: 0.9380 - val_loss: 2.0253 - val_acc: 0.4160\n",
      "> channel_shift_range = 10\n",
      "Epoch 1/2\n",
      "55s - loss: 1.9957 - acc: 0.3420 - val_loss: 1.9695 - val_acc: 0.3053\n",
      "Epoch 2/2\n",
      "52s - loss: 1.2138 - acc: 0.6413 - val_loss: 2.1557 - val_acc: 0.3373\n",
      "Epoch 1/5\n",
      "52s - loss: 0.8661 - acc: 0.7713 - val_loss: 2.0619 - val_acc: 0.4427\n",
      "Epoch 2/5\n",
      "52s - loss: 0.6698 - acc: 0.8433 - val_loss: 1.7680 - val_acc: 0.4373\n",
      "Epoch 3/5\n",
      "52s - loss: 0.5398 - acc: 0.8807 - val_loss: 1.7716 - val_acc: 0.4627\n",
      "Epoch 4/5\n",
      "52s - loss: 0.4445 - acc: 0.9100 - val_loss: 1.7612 - val_acc: 0.4507\n",
      "Epoch 5/5\n",
      "52s - loss: 0.4095 - acc: 0.9167 - val_loss: 1.6742 - val_acc: 0.4800\n",
      "> channel_shift_range = 20\n",
      "Epoch 1/2\n",
      "55s - loss: 2.0588 - acc: 0.3113 - val_loss: 2.0981 - val_acc: 0.3427\n",
      "Epoch 2/2\n",
      "52s - loss: 1.2862 - acc: 0.6027 - val_loss: 2.1854 - val_acc: 0.3773\n",
      "Epoch 1/5\n",
      "52s - loss: 0.9256 - acc: 0.7440 - val_loss: 1.9280 - val_acc: 0.4333\n",
      "Epoch 2/5\n",
      "52s - loss: 0.7019 - acc: 0.8273 - val_loss: 1.9273 - val_acc: 0.3973\n",
      "Epoch 3/5\n",
      "52s - loss: 0.5504 - acc: 0.8813 - val_loss: 1.8927 - val_acc: 0.4107\n",
      "Epoch 4/5\n",
      "52s - loss: 0.4757 - acc: 0.9007 - val_loss: 1.9278 - val_acc: 0.4227\n",
      "Epoch 5/5\n",
      "52s - loss: 0.3961 - acc: 0.9307 - val_loss: 1.8722 - val_acc: 0.4307\n",
      "> channel_shift_range = 30\n",
      "Epoch 1/2\n",
      "56s - loss: 2.0749 - acc: 0.3013 - val_loss: 2.0889 - val_acc: 0.3013\n",
      "Epoch 2/2\n"
     ]
    },
    {
     "name": "stdout",
     "output_type": "stream",
     "text": [
      "52s - loss: 1.2685 - acc: 0.6140 - val_loss: 1.9876 - val_acc: 0.3720\n",
      "Epoch 1/5\n",
      "52s - loss: 0.9302 - acc: 0.7420 - val_loss: 1.8786 - val_acc: 0.4213\n",
      "Epoch 2/5\n",
      "52s - loss: 0.7264 - acc: 0.8167 - val_loss: 1.8552 - val_acc: 0.3907\n",
      "Epoch 3/5\n",
      "52s - loss: 0.5602 - acc: 0.8753 - val_loss: 1.7893 - val_acc: 0.4427\n",
      "Epoch 4/5\n",
      "52s - loss: 0.4805 - acc: 0.8933 - val_loss: 1.8501 - val_acc: 0.4400\n",
      "Epoch 5/5\n",
      "52s - loss: 0.4249 - acc: 0.9153 - val_loss: 1.9116 - val_acc: 0.4213\n",
      "> channel_shift_range = 50\n",
      "Epoch 1/2\n",
      "56s - loss: 2.2244 - acc: 0.2553 - val_loss: 2.1832 - val_acc: 0.2413\n",
      "Epoch 2/2\n",
      "52s - loss: 1.5096 - acc: 0.5247 - val_loss: 2.0220 - val_acc: 0.3133\n",
      "Epoch 1/5\n",
      "52s - loss: 1.1497 - acc: 0.6547 - val_loss: 1.9722 - val_acc: 0.3600\n",
      "Epoch 2/5\n",
      "52s - loss: 0.9515 - acc: 0.7307 - val_loss: 1.8742 - val_acc: 0.3960\n",
      "Epoch 3/5\n",
      "52s - loss: 0.7264 - acc: 0.8080 - val_loss: 1.8761 - val_acc: 0.4040\n",
      "Epoch 4/5\n",
      "52s - loss: 0.6124 - acc: 0.8507 - val_loss: 1.8558 - val_acc: 0.4253\n",
      "Epoch 5/5\n",
      "52s - loss: 0.5529 - acc: 0.8580 - val_loss: 1.8275 - val_acc: 0.4787\n"
     ]
    }
   ],
   "source": [
    "# define the types of data augmentations we want to test, and the values we want to test for each\n",
    "aug_experiments = {\n",
    "    'rotation_range' : [0, 2.5, 5, 10, 15],\n",
    "    'width_shift_range': [0, 0.05, 1, 2, 4],\n",
    "    'height_shift_range': [0, 0.05, 1, 2, 4],\n",
    "    'shear_range': [0, 0.1, 0.15, 0.2, 0.3],\n",
    "    'zoom_range': [0, 0.1, 0.15, 0.2, 0.3],\n",
    "    'channel_shift_range': [0, 10, 20, 30, 50]\n",
    "}\n",
    "\n",
    "# used to store the results of data augmentation tests\n",
    "df_augs = pd.DataFrame(columns=['aug', 'aug_val', 'train_loss', 'train_acc', 'val_loss', 'val_acc'])\n",
    "\n",
    "# try each type of data augmentation one at a time\n",
    "for k,v in aug_experiments.items():\n",
    "    # for each type, try 3-4 different levels of augmentation\n",
    "    for aug_val in v: \n",
    "        print('> {0} = {1}'.format(k, aug_val))\n",
    "        h = test_augmentation(**{k:aug_val})\n",
    "\n",
    "        # save the results of each tested value so that we can determine the best for\n",
    "        # each data augmentation type\n",
    "        df_augs = df_augs.append({\n",
    "            'aug': k, \n",
    "            'aug_val': aug_val,\n",
    "            'train_loss': np.mean(h.history['loss'][-3:]), \n",
    "            'train_acc': np.mean(h.history['acc'][-3:]), \n",
    "            'val_loss': np.mean(h.history['val_loss'][-3:]), \n",
    "            'val_acc': np.mean(h.history['val_acc'][-3:]) \n",
    "        }, ignore_index=True)"
   ]
  },
  {
   "cell_type": "code",
   "execution_count": 33,
   "metadata": {},
   "outputs": [],
   "source": [
    "df_augs.to_csv(path+'data_augmentation_results.csv', index=False)"
   ]
  },
  {
   "cell_type": "code",
   "execution_count": 34,
   "metadata": {},
   "outputs": [
    {
     "data": {
      "text/html": [
       "<div>\n",
       "<table border=\"1\" class=\"dataframe\">\n",
       "  <thead>\n",
       "    <tr style=\"text-align: right;\">\n",
       "      <th></th>\n",
       "      <th>aug_val</th>\n",
       "      <th>train_loss</th>\n",
       "      <th>train_acc</th>\n",
       "      <th>val_loss</th>\n",
       "      <th>val_acc</th>\n",
       "    </tr>\n",
       "    <tr>\n",
       "      <th>aug</th>\n",
       "      <th></th>\n",
       "      <th></th>\n",
       "      <th></th>\n",
       "      <th></th>\n",
       "      <th></th>\n",
       "    </tr>\n",
       "  </thead>\n",
       "  <tbody>\n",
       "    <tr>\n",
       "      <th>channel_shift_range</th>\n",
       "      <td>10.00</td>\n",
       "      <td>0.464624</td>\n",
       "      <td>0.902444</td>\n",
       "      <td>1.735638</td>\n",
       "      <td>0.464444</td>\n",
       "    </tr>\n",
       "    <tr>\n",
       "      <th>height_shift_range</th>\n",
       "      <td>0.00</td>\n",
       "      <td>0.431795</td>\n",
       "      <td>0.917333</td>\n",
       "      <td>1.985304</td>\n",
       "      <td>0.436000</td>\n",
       "    </tr>\n",
       "    <tr>\n",
       "      <th>rotation_range</th>\n",
       "      <td>10.00</td>\n",
       "      <td>0.817478</td>\n",
       "      <td>0.770444</td>\n",
       "      <td>1.790981</td>\n",
       "      <td>0.476444</td>\n",
       "    </tr>\n",
       "    <tr>\n",
       "      <th>shear_range</th>\n",
       "      <td>0.00</td>\n",
       "      <td>0.431570</td>\n",
       "      <td>0.912667</td>\n",
       "      <td>1.761170</td>\n",
       "      <td>0.480444</td>\n",
       "    </tr>\n",
       "    <tr>\n",
       "      <th>width_shift_range</th>\n",
       "      <td>0.05</td>\n",
       "      <td>0.867643</td>\n",
       "      <td>0.755333</td>\n",
       "      <td>1.771413</td>\n",
       "      <td>0.515556</td>\n",
       "    </tr>\n",
       "    <tr>\n",
       "      <th>zoom_range</th>\n",
       "      <td>0.00</td>\n",
       "      <td>0.445235</td>\n",
       "      <td>0.899778</td>\n",
       "      <td>1.787687</td>\n",
       "      <td>0.477778</td>\n",
       "    </tr>\n",
       "  </tbody>\n",
       "</table>\n",
       "</div>"
      ],
      "text/plain": [
       "                     aug_val  train_loss  train_acc  val_loss   val_acc\n",
       "aug                                                                    \n",
       "channel_shift_range    10.00    0.464624   0.902444  1.735638  0.464444\n",
       "height_shift_range      0.00    0.431795   0.917333  1.985304  0.436000\n",
       "rotation_range         10.00    0.817478   0.770444  1.790981  0.476444\n",
       "shear_range             0.00    0.431570   0.912667  1.761170  0.480444\n",
       "width_shift_range       0.05    0.867643   0.755333  1.771413  0.515556\n",
       "zoom_range              0.00    0.445235   0.899778  1.787687  0.477778"
      ]
     },
     "execution_count": 34,
     "metadata": {},
     "output_type": "execute_result"
    }
   ],
   "source": [
    "df_augs.sort_values('val_acc', ascending=False).groupby('aug').first()"
   ]
  },
  {
   "cell_type": "code",
   "execution_count": 35,
   "metadata": {
    "collapsed": true
   },
   "outputs": [],
   "source": [
    "gen_aug = image.ImageDataGenerator(channel_shift_range=10.0, height_shift_range=0.0, rotation_range=10.0, \n",
    "                                   shear_range=0.10, width_shift_range=0.05, zoom_range=0.0)\n",
    "\n",
    "aug_batches = gen_aug.flow(train_data, train_labels, batch_size=batch_size)\n",
    "epoch_steps = math.ceil(aug_batches.n/aug_batches.batch_size)"
   ]
  },
  {
   "cell_type": "code",
   "execution_count": 36,
   "metadata": {},
   "outputs": [
    {
     "name": "stdout",
     "output_type": "stream",
     "text": [
      "Epoch 1/2\n",
      "56s - loss: 2.3160 - acc: 0.2233 - val_loss: 2.2394 - val_acc: 0.2280\n",
      "Epoch 2/2\n",
      "52s - loss: 1.8298 - acc: 0.3747 - val_loss: 2.2451 - val_acc: 0.2907\n"
     ]
    },
    {
     "data": {
      "text/plain": [
       "<keras.callbacks.History at 0x7ff79bcf5fd0>"
      ]
     },
     "execution_count": 36,
     "metadata": {},
     "output_type": "execute_result"
    }
   ],
   "source": [
    "limit_mem()\n",
    "model = simple_cnn()\n",
    "model.fit_generator(aug_batches, epoch_steps, epochs=2, validation_data=(val_data, val_labels), verbose=2)"
   ]
  },
  {
   "cell_type": "code",
   "execution_count": 37,
   "metadata": {},
   "outputs": [
    {
     "name": "stdout",
     "output_type": "stream",
     "text": [
      "Epoch 1/5\n",
      "52s - loss: 1.6255 - acc: 0.4467 - val_loss: 2.1800 - val_acc: 0.3200\n",
      "Epoch 2/5\n",
      "52s - loss: 1.4682 - acc: 0.5220 - val_loss: 2.1050 - val_acc: 0.3680\n",
      "Epoch 3/5\n",
      "52s - loss: 1.3419 - acc: 0.5660 - val_loss: 2.0229 - val_acc: 0.3733\n",
      "Epoch 4/5\n",
      "52s - loss: 1.2859 - acc: 0.5867 - val_loss: 1.9969 - val_acc: 0.4347\n",
      "Epoch 5/5\n",
      "52s - loss: 1.1854 - acc: 0.6267 - val_loss: 1.9332 - val_acc: 0.4560\n"
     ]
    },
    {
     "data": {
      "text/plain": [
       "<keras.callbacks.History at 0x7ff7f0f40a90>"
      ]
     },
     "execution_count": 37,
     "metadata": {},
     "output_type": "execute_result"
    }
   ],
   "source": [
    "model.optimizer.lr = 0.001\n",
    "model.fit_generator(aug_batches, epoch_steps, epochs=5, validation_data=(val_data, val_labels), verbose=2)"
   ]
  },
  {
   "cell_type": "code",
   "execution_count": 38,
   "metadata": {},
   "outputs": [
    {
     "name": "stdout",
     "output_type": "stream",
     "text": [
      "Epoch 1/5\n",
      "52s - loss: 1.1351 - acc: 0.6407 - val_loss: 1.7510 - val_acc: 0.4787\n",
      "Epoch 2/5\n",
      "52s - loss: 1.0652 - acc: 0.6787 - val_loss: 1.8536 - val_acc: 0.4787\n",
      "Epoch 3/5\n",
      "52s - loss: 1.0316 - acc: 0.6753 - val_loss: 1.7617 - val_acc: 0.4880\n",
      "Epoch 4/5\n",
      "52s - loss: 0.9348 - acc: 0.7100 - val_loss: 1.7955 - val_acc: 0.4480\n",
      "Epoch 5/5\n",
      "52s - loss: 0.8878 - acc: 0.7207 - val_loss: 1.6889 - val_acc: 0.5107\n"
     ]
    },
    {
     "data": {
      "text/plain": [
       "<keras.callbacks.History at 0x7ff798e3df60>"
      ]
     },
     "execution_count": 38,
     "metadata": {},
     "output_type": "execute_result"
    }
   ],
   "source": [
    "model.optimizer.lr = 0.0001\n",
    "model.fit_generator(aug_batches, epoch_steps, epochs=5, validation_data=(val_data, val_labels), verbose=2)"
   ]
  },
  {
   "cell_type": "code",
   "execution_count": null,
   "metadata": {
    "collapsed": true
   },
   "outputs": [],
   "source": []
  }
 ],
 "metadata": {
  "kernelspec": {
   "display_name": "Python 3",
   "language": "python",
   "name": "python3"
  },
  "language_info": {
   "codemirror_mode": {
    "name": "ipython",
    "version": 3
   },
   "file_extension": ".py",
   "mimetype": "text/x-python",
   "name": "python",
   "nbconvert_exporter": "python",
   "pygments_lexer": "ipython3",
   "version": "3.6.1"
  }
 },
 "nbformat": 4,
 "nbformat_minor": 2
}
