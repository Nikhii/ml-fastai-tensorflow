{
 "cells": [
  {
   "cell_type": "markdown",
   "metadata": {},
   "source": [
    "## Setup\n",
    "\n",
    "Basic config steps.  "
   ]
  },
  {
   "cell_type": "code",
   "execution_count": 1,
   "metadata": {
    "collapsed": false
   },
   "outputs": [],
   "source": [
    "import os, json, shutil, zipfile, random as py_random\n",
    "from glob import glob"
   ]
  },
  {
   "cell_type": "code",
   "execution_count": 2,
   "metadata": {
    "collapsed": true
   },
   "outputs": [],
   "source": [
    "current_dir = os.getcwd()\n",
    "DATA_HOME_DIR = current_dir + '/data/'\n",
    "DATA_CLASSES = ['cats', 'dogs']\n",
    "\n",
    "num_validation_files = 1500\n",
    "num_sample_train_files = 150\n",
    "num_sample_val_files = 15\n",
    "\n",
    "rebuildFromZipFiles = True"
   ]
  },
  {
   "cell_type": "code",
   "execution_count": 3,
   "metadata": {
    "collapsed": true
   },
   "outputs": [],
   "source": [
    "def make_dir(dir):\n",
    "    if not os.path.exists(dir):\n",
    "        os.makedirs(dir)\n",
    "    else:\n",
    "        shutil.rmtree(dir)\n",
    "        os.makedirs(dir)"
   ]
  },
  {
   "cell_type": "markdown",
   "metadata": {},
   "source": [
    "## Data Preparation\n",
    "\n",
    "Copy a small amount of our data into a `sample` directory, with the exact same structure as our `train` directory -- this is *always* a good idea in *all* machine learning since we should do all of our initial testing using a dataset small enough that we never have to wait for it."
   ]
  },
  {
   "cell_type": "markdown",
   "metadata": {},
   "source": [
    "### Unzip training and test files"
   ]
  },
  {
   "cell_type": "code",
   "execution_count": 4,
   "metadata": {
    "collapsed": false
   },
   "outputs": [],
   "source": [
    "if (rebuildFromZipFiles == True):\n",
    "    # unzip kaggle train.zip -> /train\n",
    "    with zipfile.ZipFile(DATA_HOME_DIR + 'train.zip', 'r') as zip_ref:\n",
    "        zip_ref.extractall(DATA_HOME_DIR)\n",
    "        \n",
    "    # unzip kaggle test.zip -> /test\n",
    "    with zipfile.ZipFile(DATA_HOME_DIR + 'test.zip', 'r') as zip_ref:\n",
    "        zip_ref.extractall(DATA_HOME_DIR)"
   ]
  },
  {
   "cell_type": "markdown",
   "metadata": {},
   "source": [
    "### Create train, validation, test, and sample directories"
   ]
  },
  {
   "cell_type": "code",
   "execution_count": 5,
   "metadata": {
    "collapsed": true
   },
   "outputs": [],
   "source": [
    "if (rebuildFromZipFiles == True):\n",
    "    # create the directory structure required for machine learning with keras\n",
    "    for c in DATA_CLASSES:\n",
    "        make_dir(DATA_HOME_DIR + 'sample/train/' + c)\n",
    "        make_dir(DATA_HOME_DIR + 'sample/valid/' + c)\n",
    "        make_dir(DATA_HOME_DIR + 'train/' + c)\n",
    "        make_dir(DATA_HOME_DIR + 'valid/' + c)\n",
    "        \n",
    "    make_dir(DATA_HOME_DIR + 'test/unknown')"
   ]
  },
  {
   "cell_type": "markdown",
   "metadata": {},
   "source": [
    "### Move training, validation, and test data into appropriate sub-directories"
   ]
  },
  {
   "cell_type": "code",
   "execution_count": 6,
   "metadata": {
    "collapsed": true
   },
   "outputs": [],
   "source": [
    "if (rebuildFromZipFiles == True):\n",
    "    # move TRAINING images into appropriate subdirectories\n",
    "    for c in DATA_CLASSES:\n",
    "        for file in glob(DATA_HOME_DIR + 'train/' + c[:-1] + '*'):\n",
    "            shutil.move(file, DATA_HOME_DIR + 'train/' + c)\n",
    "            \n",
    "    # move VALIDATION datasets\n",
    "    for c in DATA_CLASSES:\n",
    "        for file in py_random.sample(os.listdir(DATA_HOME_DIR + 'train/' + c + '/'), num_validation_files):\n",
    "            shutil.move(DATA_HOME_DIR + 'train/' + c + '/' + file, DATA_HOME_DIR + 'valid/' + c)\n",
    "            \n",
    "    # move TEST images into /unknown subdirectory\n",
    "    for file in glob(DATA_HOME_DIR + 'test/*'):\n",
    "        shutil.move(file, DATA_HOME_DIR + 'test/unknown')"
   ]
  },
  {
   "cell_type": "markdown",
   "metadata": {},
   "source": [
    "### Copy a subset of training data into approprite sub-directories under /sample folder"
   ]
  },
  {
   "cell_type": "code",
   "execution_count": 7,
   "metadata": {
    "collapsed": false
   },
   "outputs": [],
   "source": [
    "if (rebuildFromZipFiles == True):\n",
    "    # create SAMPLE train and validation datasets\n",
    "    for c in DATA_CLASSES:\n",
    "        for file in py_random.sample(os.listdir(DATA_HOME_DIR + 'train/' + c), num_sample_train_files):\n",
    "            shutil.copy(DATA_HOME_DIR + 'train/' + c + '/' + file, DATA_HOME_DIR + 'sample/train/' + c)\n",
    "            \n",
    "    for c in DATA_CLASSES:\n",
    "        for file in py_random.sample(os.listdir(DATA_HOME_DIR + 'valid/' + c), num_sample_val_files):\n",
    "            shutil.copy(DATA_HOME_DIR + 'valid/' + c + '/' + file, DATA_HOME_DIR + 'sample/valid/' + c)"
   ]
  },
  {
   "cell_type": "code",
   "execution_count": null,
   "metadata": {
    "collapsed": true
   },
   "outputs": [],
   "source": []
  }
 ],
 "metadata": {
  "kernelspec": {
   "display_name": "Python 3",
   "language": "python",
   "name": "python3"
  },
  "language_info": {
   "codemirror_mode": {
    "name": "ipython",
    "version": 3
   },
   "file_extension": ".py",
   "mimetype": "text/x-python",
   "name": "python",
   "nbconvert_exporter": "python",
   "pygments_lexer": "ipython3",
   "version": "3.5.2"
  }
 },
 "nbformat": 4,
 "nbformat_minor": 2
}
